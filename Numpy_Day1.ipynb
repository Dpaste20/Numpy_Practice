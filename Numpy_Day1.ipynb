{
  "nbformat": 4,
  "nbformat_minor": 0,
  "metadata": {
    "colab": {
      "provenance": [],
      "authorship_tag": "ABX9TyMGxnv8A8NMd+n3gV0X02wP",
      "include_colab_link": true
    },
    "kernelspec": {
      "name": "python3",
      "display_name": "Python 3"
    },
    "language_info": {
      "name": "python"
    }
  },
  "cells": [
    {
      "cell_type": "markdown",
      "metadata": {
        "id": "view-in-github",
        "colab_type": "text"
      },
      "source": [
        "<a href=\"https://colab.research.google.com/github/Dpaste20/Numpy_Practice/blob/main/Numpy_Day1.ipynb\" target=\"_parent\"><img src=\"https://colab.research.google.com/assets/colab-badge.svg\" alt=\"Open In Colab\"/></a>"
      ]
    },
    {
      "cell_type": "code",
      "execution_count": null,
      "metadata": {
        "id": "DSkaBDdpfMvb"
      },
      "outputs": [],
      "source": [
        "import numpy as np"
      ]
    },
    {
      "cell_type": "markdown",
      "source": [
        "**Initialization**"
      ],
      "metadata": {
        "id": "fkAQXhGugjTM"
      }
    },
    {
      "cell_type": "code",
      "source": [
        "a =  np.array([1,2,3])\n",
        "print(a)"
      ],
      "metadata": {
        "colab": {
          "base_uri": "https://localhost:8080/"
        },
        "id": "M7jwtQjcfV09",
        "outputId": "6c4132ec-215b-449a-d4ac-ed6500b786a4"
      },
      "execution_count": null,
      "outputs": [
        {
          "output_type": "stream",
          "name": "stdout",
          "text": [
            "[ 4  8 12]\n"
          ]
        }
      ]
    },
    {
      "cell_type": "markdown",
      "source": [
        "Data Types"
      ],
      "metadata": {
        "id": "TeqKOdXmguu7"
      }
    },
    {
      "cell_type": "code",
      "source": [
        "# Integer\n",
        "int_arr  =  np.array([20,16,1111])\n",
        "int_arr2  =  np.array([20,16,1111],dtype='int16')\n",
        "print(int_arr)\n",
        "print(int_arr.dtype)\n",
        "print(int_arr2.dtype)\n",
        "\n",
        "# float\n",
        "float_arr = np.array([1.6,2.0,11.11])\n",
        "print(float_arr)\n",
        "print(float_arr.dtype)\n",
        "\n",
        "# Boolean array\n",
        "bool_array = np.array([True, False, True])\n",
        "print(bool_array)\n",
        "print(bool_array.dtype)"
      ],
      "metadata": {
        "colab": {
          "base_uri": "https://localhost:8080/"
        },
        "id": "l7OxbMMngxwg",
        "outputId": "be73d9c0-6f5d-4ca0-8eed-5e096f887bbb"
      },
      "execution_count": null,
      "outputs": [
        {
          "output_type": "stream",
          "name": "stdout",
          "text": [
            "[  20   16 1111]\n",
            "int64\n",
            "int16\n",
            "[ 1.6   2.   11.11]\n",
            "float64\n",
            "[ True False  True]\n",
            "bool\n"
          ]
        }
      ]
    },
    {
      "cell_type": "markdown",
      "source": [
        "**Various ways to create NumPy arrays:**"
      ],
      "metadata": {
        "id": "2WW44g06jbQF"
      }
    },
    {
      "cell_type": "code",
      "source": [
        "np_array =  np.array([1,2,3,4,5])\n",
        "print(np_array)"
      ],
      "metadata": {
        "colab": {
          "base_uri": "https://localhost:8080/"
        },
        "id": "P7bphpsNjWYA",
        "outputId": "b43b7f3e-f91d-4eb4-c4d2-20f160fb7901"
      },
      "execution_count": null,
      "outputs": [
        {
          "output_type": "stream",
          "name": "stdout",
          "text": [
            "[1 2 3 4 5]\n"
          ]
        }
      ]
    },
    {
      "cell_type": "code",
      "source": [
        "range_array = np.arange(10)\n",
        "print(range_array)\n",
        "\n",
        "range_array = np.arange(1,10)\n",
        "print(range_array)\n",
        "\n",
        "range_array = np.arange(1,10,2)\n",
        "print(range_array)"
      ],
      "metadata": {
        "colab": {
          "base_uri": "https://localhost:8080/"
        },
        "id": "FiauzVw-jxaq",
        "outputId": "02f06123-a80b-4d30-afa5-0d97c4cb764a"
      },
      "execution_count": null,
      "outputs": [
        {
          "output_type": "stream",
          "name": "stdout",
          "text": [
            "[0 1 2 3 4 5 6 7 8 9]\n",
            "[1 2 3 4 5 6 7 8 9]\n",
            "[1 3 5 7 9]\n"
          ]
        }
      ]
    },
    {
      "cell_type": "code",
      "source": [
        "zero_array = np.zeros(5)\n",
        "print(zero_array)\n",
        "\n",
        "one_array = np.ones(5)\n",
        "print(one_array)\n"
      ],
      "metadata": {
        "colab": {
          "base_uri": "https://localhost:8080/"
        },
        "id": "cn3-xxkAkgbE",
        "outputId": "959a7a2d-91b1-4f62-cbea-348d39f5ebee"
      },
      "execution_count": null,
      "outputs": [
        {
          "output_type": "stream",
          "name": "stdout",
          "text": [
            "[0. 0. 0. 0. 0.]\n",
            "[1. 1. 1. 1. 1.]\n"
          ]
        }
      ]
    },
    {
      "cell_type": "code",
      "source": [
        "random_array =  np.random.rand(4)\n",
        "print(random_array)"
      ],
      "metadata": {
        "colab": {
          "base_uri": "https://localhost:8080/"
        },
        "id": "ezEs7FHlk50S",
        "outputId": "7ab9c2ca-6d22-4ca8-c0f5-bbd7cfc3b34a"
      },
      "execution_count": null,
      "outputs": [
        {
          "output_type": "stream",
          "name": "stdout",
          "text": [
            "[0.83516851 0.88579448 0.08675022 0.04725297]\n"
          ]
        }
      ]
    },
    {
      "cell_type": "code",
      "source": [
        "random_ints_1d = np.random.randint(0, 11, size=5)\n",
        "print(random_ints_1d)"
      ],
      "metadata": {
        "colab": {
          "base_uri": "https://localhost:8080/"
        },
        "id": "Awcw8WQolcwZ",
        "outputId": "4950b2ee-8eaf-4f57-a0dd-aba753d66746"
      },
      "execution_count": null,
      "outputs": [
        {
          "output_type": "stream",
          "name": "stdout",
          "text": [
            "[4 3 6 0 2]\n"
          ]
        }
      ]
    },
    {
      "cell_type": "code",
      "source": [
        "random_ints_2d = np.random.randint(1, 101, size=(3, 4))\n",
        "print(random_ints_2d)"
      ],
      "metadata": {
        "colab": {
          "base_uri": "https://localhost:8080/"
        },
        "id": "WEXjRTWNljdW",
        "outputId": "b74f994e-41ad-48d0-f928-7cb0baadc5d0"
      },
      "execution_count": null,
      "outputs": [
        {
          "output_type": "stream",
          "name": "stdout",
          "text": [
            "[[51 69 61 64]\n",
            " [61 38 42 91]\n",
            " [ 5 88 54 35]]\n"
          ]
        }
      ]
    },
    {
      "cell_type": "code",
      "source": [
        "# Generate a 1D array of 10 random booleans\n",
        "random_bools_1d = np.random.randint(0, 2, size=10, dtype=bool)\n",
        "print(random_bools_1d)\n",
        "# Output: [ True False  True False False  True False False False  True]\n",
        "\n",
        "# Generate a 2D array of shape (3, 4) with random booleans\n",
        "random_bools_2d = np.random.randint(0, 2, size=(3, 4), dtype=bool)\n",
        "print(random_bools_2d)"
      ],
      "metadata": {
        "id": "IBRT8FqilqbC",
        "outputId": "60f8589d-d917-4bdd-af7b-1d9a15ef5cd1",
        "colab": {
          "base_uri": "https://localhost:8080/"
        }
      },
      "execution_count": null,
      "outputs": [
        {
          "output_type": "stream",
          "name": "stdout",
          "text": [
            "[False  True  True  True False False False  True  True  True]\n",
            "[[False  True False False]\n",
            " [False False  True  True]\n",
            " [ True False  True  True]]\n"
          ]
        }
      ]
    }
  ]
}